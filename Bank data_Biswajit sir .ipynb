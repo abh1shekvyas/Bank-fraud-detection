{
 "cells": [
  {
   "cell_type": "markdown",
   "metadata": {},
   "source": [
    "# Fraud prediction for Bank sector\n",
    "\n",
    "### Abhishek Vyas "
   ]
  },
  {
   "cell_type": "markdown",
   "metadata": {},
   "source": [
    "### Importing required libraries"
   ]
  },
  {
   "cell_type": "code",
   "execution_count": 1,
   "metadata": {},
   "outputs": [],
   "source": [
    "import pandas as pd \n",
    "import numpy as np\n",
    "import matplotlib.pyplot as plt\n",
    "import seaborn as sns\n",
    "from sklearn.preprocessing import OneHotEncoder\n",
    "from sklearn.preprocessing import OrdinalEncoder\n",
    "from sklearn.preprocessing import MinMaxScaler, RobustScaler\n",
    "from sklearn.compose import make_column_transformer\n",
    "from sklearn.pipeline import make_pipeline\n"
   ]
  },
  {
   "cell_type": "markdown",
   "metadata": {},
   "source": [
    "### Loading file and performing basic checks and cleaning data"
   ]
  },
  {
   "cell_type": "code",
   "execution_count": 2,
   "metadata": {},
   "outputs": [],
   "source": [
    "df = pd.read_excel('C:/Users/dell/Desktop/projects/Python/bank.xlsx')"
   ]
  },
  {
   "cell_type": "code",
   "execution_count": 3,
   "metadata": {},
   "outputs": [
    {
     "data": {
      "text/html": [
       "<div>\n",
       "<style scoped>\n",
       "    .dataframe tbody tr th:only-of-type {\n",
       "        vertical-align: middle;\n",
       "    }\n",
       "\n",
       "    .dataframe tbody tr th {\n",
       "        vertical-align: top;\n",
       "    }\n",
       "\n",
       "    .dataframe thead th {\n",
       "        text-align: right;\n",
       "    }\n",
       "</style>\n",
       "<table border=\"1\" class=\"dataframe\">\n",
       "  <thead>\n",
       "    <tr style=\"text-align: right;\">\n",
       "      <th></th>\n",
       "      <th>Customer</th>\n",
       "      <th>CHANNEL</th>\n",
       "      <th>Loan Type</th>\n",
       "      <th>Collection Point</th>\n",
       "      <th>Avg EMI Overdue days</th>\n",
       "      <th>Loan Term</th>\n",
       "      <th>Loan Amount_Lacs</th>\n",
       "      <th>Type of Loan Taken</th>\n",
       "      <th>PI_Age</th>\n",
       "      <th>PI_GENDER</th>\n",
       "      <th>...</th>\n",
       "      <th>Branch</th>\n",
       "      <th>Salary</th>\n",
       "      <th>Age Proof</th>\n",
       "      <th>Blocked Location - Current</th>\n",
       "      <th>EMI defulter Frequency</th>\n",
       "      <th>Salary Account in Bank</th>\n",
       "      <th>edu_flag</th>\n",
       "      <th>Occ_flag</th>\n",
       "      <th>PI_Contactablity</th>\n",
       "      <th>Defaulter</th>\n",
       "    </tr>\n",
       "  </thead>\n",
       "  <tbody>\n",
       "    <tr>\n",
       "      <th>0</th>\n",
       "      <td>1</td>\n",
       "      <td>Bank</td>\n",
       "      <td>House Loan</td>\n",
       "      <td>0</td>\n",
       "      <td>15</td>\n",
       "      <td>15</td>\n",
       "      <td>29</td>\n",
       "      <td>4</td>\n",
       "      <td>40</td>\n",
       "      <td>F</td>\n",
       "      <td>...</td>\n",
       "      <td>Branch1</td>\n",
       "      <td>400000.0</td>\n",
       "      <td>PAN  Card</td>\n",
       "      <td>No</td>\n",
       "      <td>3</td>\n",
       "      <td>No</td>\n",
       "      <td>NaN</td>\n",
       "      <td>Salaried</td>\n",
       "      <td>Only E-mail</td>\n",
       "      <td>Yes</td>\n",
       "    </tr>\n",
       "    <tr>\n",
       "      <th>1</th>\n",
       "      <td>2</td>\n",
       "      <td>Bank</td>\n",
       "      <td>House Loan</td>\n",
       "      <td>0</td>\n",
       "      <td>9</td>\n",
       "      <td>23</td>\n",
       "      <td>32</td>\n",
       "      <td>3</td>\n",
       "      <td>53</td>\n",
       "      <td>M</td>\n",
       "      <td>...</td>\n",
       "      <td>Branch3</td>\n",
       "      <td>35000.0</td>\n",
       "      <td>Aadhar</td>\n",
       "      <td>Yes</td>\n",
       "      <td>0</td>\n",
       "      <td>No</td>\n",
       "      <td>NaN</td>\n",
       "      <td>NaN</td>\n",
       "      <td>No Contactability</td>\n",
       "      <td>Non-Defulter</td>\n",
       "    </tr>\n",
       "    <tr>\n",
       "      <th>2</th>\n",
       "      <td>3</td>\n",
       "      <td>Agency</td>\n",
       "      <td>House Loan</td>\n",
       "      <td>0</td>\n",
       "      <td>11</td>\n",
       "      <td>22</td>\n",
       "      <td>18</td>\n",
       "      <td>4</td>\n",
       "      <td>40</td>\n",
       "      <td>F</td>\n",
       "      <td>...</td>\n",
       "      <td>Branch4</td>\n",
       "      <td>300000.0</td>\n",
       "      <td>Aadhar</td>\n",
       "      <td>No</td>\n",
       "      <td>2</td>\n",
       "      <td>No</td>\n",
       "      <td>NaN</td>\n",
       "      <td>Self employeed</td>\n",
       "      <td>No Contactability</td>\n",
       "      <td>Non-Defulter</td>\n",
       "    </tr>\n",
       "    <tr>\n",
       "      <th>3</th>\n",
       "      <td>4</td>\n",
       "      <td>Bank</td>\n",
       "      <td>House Loan</td>\n",
       "      <td>0</td>\n",
       "      <td>14</td>\n",
       "      <td>21</td>\n",
       "      <td>13</td>\n",
       "      <td>1</td>\n",
       "      <td>51</td>\n",
       "      <td>M</td>\n",
       "      <td>...</td>\n",
       "      <td>Branch6</td>\n",
       "      <td>750000.0</td>\n",
       "      <td>PAN  Card</td>\n",
       "      <td>Yes</td>\n",
       "      <td>0</td>\n",
       "      <td>No</td>\n",
       "      <td>Post Graduate</td>\n",
       "      <td>Salaried</td>\n",
       "      <td>Only E-mail</td>\n",
       "      <td>Non-Defulter</td>\n",
       "    </tr>\n",
       "    <tr>\n",
       "      <th>4</th>\n",
       "      <td>5</td>\n",
       "      <td>Bank</td>\n",
       "      <td>House Loan</td>\n",
       "      <td>0</td>\n",
       "      <td>1</td>\n",
       "      <td>10</td>\n",
       "      <td>42</td>\n",
       "      <td>1</td>\n",
       "      <td>46</td>\n",
       "      <td>M</td>\n",
       "      <td>...</td>\n",
       "      <td>Branch7</td>\n",
       "      <td>360000.0</td>\n",
       "      <td>PAN  Card</td>\n",
       "      <td>No</td>\n",
       "      <td>2</td>\n",
       "      <td>No</td>\n",
       "      <td>12th Pass</td>\n",
       "      <td>Salaried</td>\n",
       "      <td>No Contactability</td>\n",
       "      <td>Non-Defulter</td>\n",
       "    </tr>\n",
       "  </tbody>\n",
       "</table>\n",
       "<p>5 rows × 23 columns</p>\n",
       "</div>"
      ],
      "text/plain": [
       "   Customer CHANNEL    Loan Type  Collection Point   Avg EMI Overdue days   \\\n",
       "0         1    Bank  House Loan                   0                     15   \n",
       "1         2    Bank  House Loan                   0                      9   \n",
       "2         3  Agency  House Loan                   0                     11   \n",
       "3         4    Bank  House Loan                   0                     14   \n",
       "4         5    Bank  House Loan                   0                      1   \n",
       "\n",
       "   Loan Term   Loan Amount_Lacs  Type of Loan Taken  PI_Age PI_GENDER  ...  \\\n",
       "0          15                29                   4      40         F  ...   \n",
       "1          23                32                   3      53         M  ...   \n",
       "2          22                18                   4      40         F  ...   \n",
       "3          21                13                   1      51         M  ...   \n",
       "4          10                42                   1      46         M  ...   \n",
       "\n",
       "    Branch   Salary   Age Proof Blocked Location - Current   \\\n",
       "0  Branch1  400000.0  PAN  Card                          No   \n",
       "1  Branch3   35000.0     Aadhar                         Yes   \n",
       "2  Branch4  300000.0     Aadhar                          No   \n",
       "3  Branch6  750000.0  PAN  Card                         Yes   \n",
       "4  Branch7  360000.0  PAN  Card                          No   \n",
       "\n",
       "   EMI defulter Frequency   Salary Account in Bank       edu_flag  \\\n",
       "0                         3                     No            NaN   \n",
       "1                         0                     No            NaN   \n",
       "2                         2                     No            NaN   \n",
       "3                         0                     No  Post Graduate   \n",
       "4                         2                     No      12th Pass   \n",
       "\n",
       "         Occ_flag   PI_Contactablity     Defaulter  \n",
       "0        Salaried        Only E-mail           Yes  \n",
       "1             NaN  No Contactability  Non-Defulter  \n",
       "2  Self employeed  No Contactability  Non-Defulter  \n",
       "3        Salaried        Only E-mail  Non-Defulter  \n",
       "4        Salaried  No Contactability  Non-Defulter  \n",
       "\n",
       "[5 rows x 23 columns]"
      ]
     },
     "execution_count": 3,
     "metadata": {},
     "output_type": "execute_result"
    }
   ],
   "source": [
    "df.head()"
   ]
  },
  {
   "cell_type": "code",
   "execution_count": 4,
   "metadata": {},
   "outputs": [
    {
     "name": "stdout",
     "output_type": "stream",
     "text": [
      "<class 'pandas.core.frame.DataFrame'>\n",
      "RangeIndex: 1564 entries, 0 to 1563\n",
      "Data columns (total 23 columns):\n",
      " #   Column                       Non-Null Count  Dtype  \n",
      "---  ------                       --------------  -----  \n",
      " 0   Customer                     1564 non-null   int64  \n",
      " 1   CHANNEL                      1564 non-null   object \n",
      " 2   Loan Type                    1564 non-null   object \n",
      " 3   Collection Point             1564 non-null   int64  \n",
      " 4   Avg EMI Overdue days         1564 non-null   int64  \n",
      " 5   Loan Term                    1564 non-null   int64  \n",
      " 6   Loan Amount_Lacs             1564 non-null   int64  \n",
      " 7   Type of Loan Taken           1564 non-null   int64  \n",
      " 8   PI_Age                       1564 non-null   int64  \n",
      " 9   PI_GENDER                    1564 non-null   object \n",
      " 10  PI_MARITAL_STATUS            1564 non-null   object \n",
      " 11  PI_STATE                     1564 non-null   object \n",
      " 12  Zone                         1564 non-null   object \n",
      " 13  Branch                       1564 non-null   object \n",
      " 14  Salary                       1564 non-null   float64\n",
      " 15  Age Proof                    1564 non-null   object \n",
      " 16  Blocked Location - Current   1564 non-null   object \n",
      " 17  EMI defulter Frequency       1564 non-null   int64  \n",
      " 18  Salary Account in Bank       1564 non-null   object \n",
      " 19  edu_flag                     931 non-null    object \n",
      " 20  Occ_flag                     1527 non-null   object \n",
      " 21  PI_Contactablity             1564 non-null   object \n",
      " 22  Defaulter                    1564 non-null   object \n",
      "dtypes: float64(1), int64(8), object(14)\n",
      "memory usage: 281.2+ KB\n"
     ]
    }
   ],
   "source": [
    "df.info()"
   ]
  },
  {
   "cell_type": "code",
   "execution_count": 5,
   "metadata": {
    "scrolled": true
   },
   "outputs": [
    {
     "name": "stdout",
     "output_type": "stream",
     "text": [
      "Customer                         0\n",
      "CHANNEL                          0\n",
      "Loan Type                        0\n",
      "Collection Point                 0\n",
      "Avg EMI Overdue days             0\n",
      "Loan Term                        0\n",
      "Loan Amount_Lacs                 0\n",
      "Type of Loan Taken               0\n",
      "PI_Age                           0\n",
      "PI_GENDER                        0\n",
      "PI_MARITAL_STATUS                0\n",
      "PI_STATE                         0\n",
      "Zone                             0\n",
      "Branch                           0\n",
      "Salary                           0\n",
      "Age Proof                        0\n",
      "Blocked Location - Current       0\n",
      "EMI defulter Frequency           0\n",
      "Salary Account in Bank           0\n",
      "edu_flag                       633\n",
      "Occ_flag                        37\n",
      "PI_Contactablity                 0\n",
      "Defaulter                        0\n",
      "dtype: int64\n"
     ]
    },
    {
     "data": {
      "text/plain": [
       "Customer                       1564\n",
       "CHANNEL                           5\n",
       "Loan Type                         1\n",
       "Collection Point                  2\n",
       "Avg EMI Overdue days             15\n",
       "Loan Term                        16\n",
       "Loan Amount_Lacs                 41\n",
       "Type of Loan Taken                4\n",
       "PI_Age                           61\n",
       "PI_GENDER                         2\n",
       "PI_MARITAL_STATUS                 5\n",
       "PI_STATE                         26\n",
       "Zone                              7\n",
       "Branch                           15\n",
       "Salary                          139\n",
       "Age Proof                         8\n",
       "Blocked Location - Current        2\n",
       "EMI defulter Frequency            4\n",
       "Salary Account in Bank            2\n",
       "edu_flag                          6\n",
       "Occ_flag                          7\n",
       "PI_Contactablity                  4\n",
       "Defaulter                         2\n",
       "dtype: int64"
      ]
     },
     "execution_count": 5,
     "metadata": {},
     "output_type": "execute_result"
    }
   ],
   "source": [
    "print(df.isnull().sum())\n",
    "df.nunique()"
   ]
  },
  {
   "cell_type": "markdown",
   "metadata": {},
   "source": [
    "### Dropping columns not required"
   ]
  },
  {
   "cell_type": "code",
   "execution_count": 6,
   "metadata": {},
   "outputs": [],
   "source": [
    "df.drop(['edu_flag'], axis=1, inplace = True) # education flag has majority null values \n",
    "df.drop(['Customer'], axis=1, inplace = True) # Customer_ID is irrelevant\n",
    "df.drop(['PI_STATE'], axis=1, inplace = True) \n"
   ]
  },
  {
   "cell_type": "code",
   "execution_count": 7,
   "metadata": {},
   "outputs": [],
   "source": [
    "# Limited values of occupation column were having null values which were filled with a string value'none' or it can mean unemployed(assumption)\n",
    "df['Occ_flag'].fillna('none', inplace = True) "
   ]
  },
  {
   "cell_type": "code",
   "execution_count": null,
   "metadata": {},
   "outputs": [],
   "source": []
  },
  {
   "cell_type": "code",
   "execution_count": 8,
   "metadata": {},
   "outputs": [],
   "source": [
    "# Assigning values as 1 and 0 (1 is for defaulter)\n",
    "df['defaulter'] = np.where((df['Defaulter']=='Yes' ), 1, 0)\n",
    "df.drop(['Defaulter'], axis=1, inplace = True)"
   ]
  },
  {
   "cell_type": "code",
   "execution_count": 9,
   "metadata": {},
   "outputs": [
    {
     "data": {
      "text/plain": [
       "Index(['CHANNEL', 'Loan Type', 'Collection Point ', 'Avg EMI Overdue days ',\n",
       "       'Loan Term ', 'Loan Amount_Lacs', 'Type of Loan Taken', 'PI_Age',\n",
       "       'PI_GENDER', 'PI_MARITAL_STATUS', 'Zone', 'Branch', 'Salary ',\n",
       "       'Age Proof', 'Blocked Location - Current ', 'EMI defulter Frequency  ',\n",
       "       'Salary Account in Bank', 'Occ_flag', 'PI_Contactablity', 'defaulter'],\n",
       "      dtype='object')"
      ]
     },
     "execution_count": 9,
     "metadata": {},
     "output_type": "execute_result"
    }
   ],
   "source": [
    "df.columns"
   ]
  },
  {
   "cell_type": "code",
   "execution_count": 10,
   "metadata": {},
   "outputs": [
    {
     "data": {
      "text/plain": [
       "<matplotlib.axes._subplots.AxesSubplot at 0x240e820d388>"
      ]
     },
     "execution_count": 10,
     "metadata": {},
     "output_type": "execute_result"
    },
    {
     "data": {
      "image/png": "[encoded data removed]",
      "text/plain": [
       "<Figure size 432x288 with 1 Axes>"
      ]
     },
     "metadata": {
      "needs_background": "light"
     },
     "output_type": "display_data"
    }
   ],
   "source": [
    "# We can see that Salary column has a wide range, which is why it will be scaled afterwards\n",
    "sns.distplot(df['Salary '].dropna(), color = 'darkred')"
   ]
  },
  {
   "cell_type": "code",
   "execution_count": 11,
   "metadata": {},
   "outputs": [
    {
     "data": {
      "text/plain": [
       "CHANNEL                         object\n",
       "Loan Type                       object\n",
       "Collection Point                 int64\n",
       "Avg EMI Overdue days             int64\n",
       "Loan Term                        int64\n",
       "Loan Amount_Lacs                 int64\n",
       "Type of Loan Taken               int64\n",
       "PI_Age                           int64\n",
       "PI_GENDER                       object\n",
       "PI_MARITAL_STATUS               object\n",
       "Zone                            object\n",
       "Branch                          object\n",
       "Salary                         float64\n",
       "Age Proof                       object\n",
       "Blocked Location - Current      object\n",
       "EMI defulter Frequency           int64\n",
       "Salary Account in Bank          object\n",
       "Occ_flag                        object\n",
       "PI_Contactablity                object\n",
       "defaulter                        int32\n",
       "dtype: object"
      ]
     },
     "execution_count": 11,
     "metadata": {},
     "output_type": "execute_result"
    }
   ],
   "source": [
    "df.dtypes"
   ]
  },
  {
   "cell_type": "code",
   "execution_count": 12,
   "metadata": {},
   "outputs": [
    {
     "data": {
      "text/plain": [
       "<matplotlib.axes._subplots.AxesSubplot at 0x240e8d04488>"
      ]
     },
     "execution_count": 12,
     "metadata": {},
     "output_type": "execute_result"
    },
    {
     "data": {
      "image/png": "[encoded data removed]",
      "text/plain": [
       "<Figure size 432x288 with 1 Axes>"
      ]
     },
     "metadata": {
      "needs_background": "light"
     },
     "output_type": "display_data"
    }
   ],
   "source": [
    "# Visualising boxplots of some ineteger type columns to understand if there are no unrealistic values(eg age is in a proper range of below 80)\n",
    "df[['Avg EMI Overdue days ', 'Loan Term ', 'Loan Amount_Lacs',\n",
    "        'PI_Age',  'EMI defulter Frequency  '\n",
    "       ]].boxplot()"
   ]
  },
  {
   "cell_type": "code",
   "execution_count": 13,
   "metadata": {},
   "outputs": [
    {
     "data": {
      "text/plain": [
       "CHANNEL                         object\n",
       "Loan Type                       object\n",
       "Collection Point                object\n",
       "Avg EMI Overdue days             int64\n",
       "Loan Term                        int64\n",
       "Loan Amount_Lacs                 int64\n",
       "Type of Loan Taken              object\n",
       "PI_Age                           int64\n",
       "PI_GENDER                       object\n",
       "PI_MARITAL_STATUS               object\n",
       "Zone                            object\n",
       "Branch                          object\n",
       "Salary                         float64\n",
       "Age Proof                       object\n",
       "Blocked Location - Current      object\n",
       "EMI defulter Frequency           int64\n",
       "Salary Account in Bank          object\n",
       "Occ_flag                        object\n",
       "PI_Contactablity                object\n",
       "defaulter                        int32\n",
       "dtype: object"
      ]
     },
     "execution_count": 13,
     "metadata": {},
     "output_type": "execute_result"
    }
   ],
   "source": [
    "# changing data types \n",
    "df['Collection Point '] = df['Collection Point '].astype(object)\n",
    "df['Type of Loan Taken'] = df['Type of Loan Taken'].astype(object)\n",
    "\n",
    "df.dtypes"
   ]
  },
  {
   "cell_type": "markdown",
   "metadata": {},
   "source": [
    "## Below will be used in a pipeline, this will help to easily separate scaling of training and test data, this will help avoid Data leakage."
   ]
  },
  {
   "cell_type": "code",
   "execution_count": 14,
   "metadata": {},
   "outputs": [],
   "source": [
    "# Set encoding and scaling instructions\n",
    "column_transform = make_column_transformer(\n",
    "    (OneHotEncoder(), ['CHANNEL', 'Occ_flag', 'PI_Contactablity', 'Loan Type', 'Collection Point ','Salary Account in Bank', 'Type of Loan Taken','PI_GENDER', 'PI_MARITAL_STATUS', 'Zone', 'Branch','Age Proof', 'Blocked Location - Current ' ]),\n",
    "    (OrdinalEncoder(), ['EMI defulter Frequency  ']),\n",
    "    (RobustScaler(), ['Avg EMI Overdue days ', 'Loan Term ', 'Loan Amount_Lacs','PI_Age', 'Salary '])\n",
    ")"
   ]
  },
  {
   "cell_type": "code",
   "execution_count": 15,
   "metadata": {},
   "outputs": [],
   "source": [
    "# train-test split\n",
    "from sklearn.model_selection import train_test_split\n",
    "\n",
    "train, test = train_test_split(df, test_size=0.2, random_state=42, stratify=df['defaulter'])"
   ]
  },
  {
   "cell_type": "code",
   "execution_count": 16,
   "metadata": {},
   "outputs": [],
   "source": [
    "X_train = train.drop(columns=[ 'defaulter'])\n",
    "y_train = train['defaulter']\n",
    "X_test = test.drop(columns=['defaulter'])\n",
    "y_test =  test['defaulter'].copy()"
   ]
  },
  {
   "cell_type": "code",
   "execution_count": 17,
   "metadata": {},
   "outputs": [
    {
     "data": {
      "text/html": [
       "<div>\n",
       "<style scoped>\n",
       "    .dataframe tbody tr th:only-of-type {\n",
       "        vertical-align: middle;\n",
       "    }\n",
       "\n",
       "    .dataframe tbody tr th {\n",
       "        vertical-align: top;\n",
       "    }\n",
       "\n",
       "    .dataframe thead th {\n",
       "        text-align: right;\n",
       "    }\n",
       "</style>\n",
       "<table border=\"1\" class=\"dataframe\">\n",
       "  <thead>\n",
       "    <tr style=\"text-align: right;\">\n",
       "      <th></th>\n",
       "      <th>CHANNEL</th>\n",
       "      <th>Loan Type</th>\n",
       "      <th>Collection Point</th>\n",
       "      <th>Avg EMI Overdue days</th>\n",
       "      <th>Loan Term</th>\n",
       "      <th>Loan Amount_Lacs</th>\n",
       "      <th>Type of Loan Taken</th>\n",
       "      <th>PI_Age</th>\n",
       "      <th>PI_GENDER</th>\n",
       "      <th>PI_MARITAL_STATUS</th>\n",
       "      <th>Zone</th>\n",
       "      <th>Branch</th>\n",
       "      <th>Salary</th>\n",
       "      <th>Age Proof</th>\n",
       "      <th>Blocked Location - Current</th>\n",
       "      <th>EMI defulter Frequency</th>\n",
       "      <th>Salary Account in Bank</th>\n",
       "      <th>Occ_flag</th>\n",
       "      <th>PI_Contactablity</th>\n",
       "    </tr>\n",
       "  </thead>\n",
       "  <tbody>\n",
       "    <tr>\n",
       "      <th>1502</th>\n",
       "      <td>Bank</td>\n",
       "      <td>House Loan</td>\n",
       "      <td>0</td>\n",
       "      <td>11</td>\n",
       "      <td>25</td>\n",
       "      <td>14</td>\n",
       "      <td>2</td>\n",
       "      <td>71</td>\n",
       "      <td>F</td>\n",
       "      <td>M</td>\n",
       "      <td>Zone4</td>\n",
       "      <td>Branch1</td>\n",
       "      <td>150000.0</td>\n",
       "      <td>PAN  Card</td>\n",
       "      <td>No</td>\n",
       "      <td>3</td>\n",
       "      <td>No</td>\n",
       "      <td>Salaried</td>\n",
       "      <td>No Contactability</td>\n",
       "    </tr>\n",
       "    <tr>\n",
       "      <th>1037</th>\n",
       "      <td>Online</td>\n",
       "      <td>House Loan</td>\n",
       "      <td>0</td>\n",
       "      <td>4</td>\n",
       "      <td>18</td>\n",
       "      <td>16</td>\n",
       "      <td>4</td>\n",
       "      <td>51</td>\n",
       "      <td>M</td>\n",
       "      <td>M</td>\n",
       "      <td>Zone7</td>\n",
       "      <td>Branch4</td>\n",
       "      <td>275000.0</td>\n",
       "      <td>Driving License</td>\n",
       "      <td>No</td>\n",
       "      <td>2</td>\n",
       "      <td>No</td>\n",
       "      <td>Salaried</td>\n",
       "      <td>Only E-mail</td>\n",
       "    </tr>\n",
       "    <tr>\n",
       "      <th>167</th>\n",
       "      <td>Online</td>\n",
       "      <td>House Loan</td>\n",
       "      <td>0</td>\n",
       "      <td>11</td>\n",
       "      <td>21</td>\n",
       "      <td>16</td>\n",
       "      <td>4</td>\n",
       "      <td>22</td>\n",
       "      <td>M</td>\n",
       "      <td>S</td>\n",
       "      <td>Zone2</td>\n",
       "      <td>Branch1</td>\n",
       "      <td>300000.0</td>\n",
       "      <td>Voter Id Card</td>\n",
       "      <td>No</td>\n",
       "      <td>1</td>\n",
       "      <td>Yes</td>\n",
       "      <td>Self employeed</td>\n",
       "      <td>Only Phone</td>\n",
       "    </tr>\n",
       "  </tbody>\n",
       "</table>\n",
       "</div>"
      ],
      "text/plain": [
       "     CHANNEL    Loan Type Collection Point   Avg EMI Overdue days   \\\n",
       "1502    Bank  House Loan                  0                     11   \n",
       "1037  Online  House Loan                  0                      4   \n",
       "167   Online  House Loan                  0                     11   \n",
       "\n",
       "      Loan Term   Loan Amount_Lacs Type of Loan Taken  PI_Age PI_GENDER  \\\n",
       "1502          25                14                  2      71         F   \n",
       "1037          18                16                  4      51         M   \n",
       "167           21                16                  4      22         M   \n",
       "\n",
       "     PI_MARITAL_STATUS   Zone   Branch   Salary         Age Proof  \\\n",
       "1502                 M  Zone4  Branch1  150000.0        PAN  Card   \n",
       "1037                 M  Zone7  Branch4  275000.0  Driving License   \n",
       "167                  S  Zone2  Branch1  300000.0    Voter Id Card   \n",
       "\n",
       "     Blocked Location - Current   EMI defulter Frequency    \\\n",
       "1502                          No                         3   \n",
       "1037                          No                         2   \n",
       "167                           No                         1   \n",
       "\n",
       "     Salary Account in Bank        Occ_flag   PI_Contactablity  \n",
       "1502                     No        Salaried  No Contactability  \n",
       "1037                     No        Salaried        Only E-mail  \n",
       "167                     Yes  Self employeed         Only Phone  "
      ]
     },
     "execution_count": 17,
     "metadata": {},
     "output_type": "execute_result"
    }
   ],
   "source": [
    "X_train.head(3)"
   ]
  },
  {
   "cell_type": "code",
   "execution_count": 18,
   "metadata": {},
   "outputs": [],
   "source": [
    "X_trans = column_transform.fit_transform(X_train)"
   ]
  },
  {
   "cell_type": "code",
   "execution_count": 19,
   "metadata": {},
   "outputs": [
    {
     "data": {
      "text/plain": [
       "<1251x71 sparse matrix of type '<class 'numpy.float64'>'\n",
       "\twith 23014 stored elements in Compressed Sparse Row format>"
      ]
     },
     "execution_count": 19,
     "metadata": {},
     "output_type": "execute_result"
    }
   ],
   "source": [
    "#we can see below the data type is a sparse matrix after performing column transform\n",
    "X_trans"
   ]
  },
  {
   "cell_type": "code",
   "execution_count": 20,
   "metadata": {
    "scrolled": true
   },
   "outputs": [
    {
     "data": {
      "text/html": [
       "<div>\n",
       "<style scoped>\n",
       "    .dataframe tbody tr th:only-of-type {\n",
       "        vertical-align: middle;\n",
       "    }\n",
       "\n",
       "    .dataframe tbody tr th {\n",
       "        vertical-align: top;\n",
       "    }\n",
       "\n",
       "    .dataframe thead th {\n",
       "        text-align: right;\n",
       "    }\n",
       "</style>\n",
       "<table border=\"1\" class=\"dataframe\">\n",
       "  <thead>\n",
       "    <tr style=\"text-align: right;\">\n",
       "      <th></th>\n",
       "      <th>0</th>\n",
       "      <th>1</th>\n",
       "      <th>2</th>\n",
       "      <th>3</th>\n",
       "      <th>4</th>\n",
       "      <th>5</th>\n",
       "      <th>6</th>\n",
       "      <th>7</th>\n",
       "      <th>8</th>\n",
       "      <th>9</th>\n",
       "      <th>...</th>\n",
       "      <th>61</th>\n",
       "      <th>62</th>\n",
       "      <th>63</th>\n",
       "      <th>64</th>\n",
       "      <th>65</th>\n",
       "      <th>66</th>\n",
       "      <th>67</th>\n",
       "      <th>68</th>\n",
       "      <th>69</th>\n",
       "      <th>70</th>\n",
       "    </tr>\n",
       "  </thead>\n",
       "  <tbody>\n",
       "    <tr>\n",
       "      <th>0</th>\n",
       "      <td>0.0</td>\n",
       "      <td>1.0</td>\n",
       "      <td>0.0</td>\n",
       "      <td>0.0</td>\n",
       "      <td>0.0</td>\n",
       "      <td>0.0</td>\n",
       "      <td>0.0</td>\n",
       "      <td>1.0</td>\n",
       "      <td>0.0</td>\n",
       "      <td>0.0</td>\n",
       "      <td>...</td>\n",
       "      <td>0.0</td>\n",
       "      <td>0.0</td>\n",
       "      <td>1.0</td>\n",
       "      <td>0.0</td>\n",
       "      <td>3.0</td>\n",
       "      <td>0.428571</td>\n",
       "      <td>1.142857</td>\n",
       "      <td>-0.761905</td>\n",
       "      <td>1.266667</td>\n",
       "      <td>-0.81250</td>\n",
       "    </tr>\n",
       "    <tr>\n",
       "      <th>1</th>\n",
       "      <td>0.0</td>\n",
       "      <td>0.0</td>\n",
       "      <td>0.0</td>\n",
       "      <td>0.0</td>\n",
       "      <td>1.0</td>\n",
       "      <td>0.0</td>\n",
       "      <td>0.0</td>\n",
       "      <td>1.0</td>\n",
       "      <td>0.0</td>\n",
       "      <td>0.0</td>\n",
       "      <td>...</td>\n",
       "      <td>0.0</td>\n",
       "      <td>0.0</td>\n",
       "      <td>1.0</td>\n",
       "      <td>0.0</td>\n",
       "      <td>2.0</td>\n",
       "      <td>-0.571429</td>\n",
       "      <td>0.142857</td>\n",
       "      <td>-0.666667</td>\n",
       "      <td>-0.066667</td>\n",
       "      <td>-0.03125</td>\n",
       "    </tr>\n",
       "    <tr>\n",
       "      <th>2</th>\n",
       "      <td>0.0</td>\n",
       "      <td>0.0</td>\n",
       "      <td>0.0</td>\n",
       "      <td>0.0</td>\n",
       "      <td>1.0</td>\n",
       "      <td>0.0</td>\n",
       "      <td>0.0</td>\n",
       "      <td>0.0</td>\n",
       "      <td>1.0</td>\n",
       "      <td>0.0</td>\n",
       "      <td>...</td>\n",
       "      <td>0.0</td>\n",
       "      <td>1.0</td>\n",
       "      <td>1.0</td>\n",
       "      <td>0.0</td>\n",
       "      <td>1.0</td>\n",
       "      <td>0.428571</td>\n",
       "      <td>0.571429</td>\n",
       "      <td>-0.666667</td>\n",
       "      <td>-2.000000</td>\n",
       "      <td>0.12500</td>\n",
       "    </tr>\n",
       "    <tr>\n",
       "      <th>3</th>\n",
       "      <td>0.0</td>\n",
       "      <td>0.0</td>\n",
       "      <td>0.0</td>\n",
       "      <td>0.0</td>\n",
       "      <td>1.0</td>\n",
       "      <td>0.0</td>\n",
       "      <td>0.0</td>\n",
       "      <td>1.0</td>\n",
       "      <td>0.0</td>\n",
       "      <td>0.0</td>\n",
       "      <td>...</td>\n",
       "      <td>0.0</td>\n",
       "      <td>0.0</td>\n",
       "      <td>1.0</td>\n",
       "      <td>0.0</td>\n",
       "      <td>3.0</td>\n",
       "      <td>-0.428571</td>\n",
       "      <td>1.000000</td>\n",
       "      <td>-0.571429</td>\n",
       "      <td>0.266667</td>\n",
       "      <td>-1.53125</td>\n",
       "    </tr>\n",
       "    <tr>\n",
       "      <th>4</th>\n",
       "      <td>0.0</td>\n",
       "      <td>0.0</td>\n",
       "      <td>0.0</td>\n",
       "      <td>0.0</td>\n",
       "      <td>1.0</td>\n",
       "      <td>0.0</td>\n",
       "      <td>0.0</td>\n",
       "      <td>1.0</td>\n",
       "      <td>0.0</td>\n",
       "      <td>0.0</td>\n",
       "      <td>...</td>\n",
       "      <td>0.0</td>\n",
       "      <td>0.0</td>\n",
       "      <td>1.0</td>\n",
       "      <td>0.0</td>\n",
       "      <td>3.0</td>\n",
       "      <td>-0.428571</td>\n",
       "      <td>-0.428571</td>\n",
       "      <td>0.285714</td>\n",
       "      <td>-1.066667</td>\n",
       "      <td>1.37500</td>\n",
       "    </tr>\n",
       "  </tbody>\n",
       "</table>\n",
       "<p>5 rows × 71 columns</p>\n",
       "</div>"
      ],
      "text/plain": [
       "    0    1    2    3    4    5    6    7    8    9   ...   61   62   63   64  \\\n",
       "0  0.0  1.0  0.0  0.0  0.0  0.0  0.0  1.0  0.0  0.0  ...  0.0  0.0  1.0  0.0   \n",
       "1  0.0  0.0  0.0  0.0  1.0  0.0  0.0  1.0  0.0  0.0  ...  0.0  0.0  1.0  0.0   \n",
       "2  0.0  0.0  0.0  0.0  1.0  0.0  0.0  0.0  1.0  0.0  ...  0.0  1.0  1.0  0.0   \n",
       "3  0.0  0.0  0.0  0.0  1.0  0.0  0.0  1.0  0.0  0.0  ...  0.0  0.0  1.0  0.0   \n",
       "4  0.0  0.0  0.0  0.0  1.0  0.0  0.0  1.0  0.0  0.0  ...  0.0  0.0  1.0  0.0   \n",
       "\n",
       "    65        66        67        68        69       70  \n",
       "0  3.0  0.428571  1.142857 -0.761905  1.266667 -0.81250  \n",
       "1  2.0 -0.571429  0.142857 -0.666667 -0.066667 -0.03125  \n",
       "2  1.0  0.428571  0.571429 -0.666667 -2.000000  0.12500  \n",
       "3  3.0 -0.428571  1.000000 -0.571429  0.266667 -1.53125  \n",
       "4  3.0 -0.428571 -0.428571  0.285714 -1.066667  1.37500  \n",
       "\n",
       "[5 rows x 71 columns]"
      ]
     },
     "execution_count": 20,
     "metadata": {},
     "output_type": "execute_result"
    }
   ],
   "source": [
    "# converting sparse matrix to dataframe\n",
    "pd.DataFrame.sparse.from_spmatrix(X_trans).head()"
   ]
  },
  {
   "cell_type": "markdown",
   "metadata": {},
   "source": [
    "# Using decision tree and making a pipeline for the process "
   ]
  },
  {
   "cell_type": "code",
   "execution_count": 21,
   "metadata": {},
   "outputs": [],
   "source": [
    "# Import Decision tree classifier\n",
    "from sklearn.tree import DecisionTreeClassifier\n",
    "\n",
    "# Create our decision tree\n",
    "tree = DecisionTreeClassifier(random_state=10)\n",
    "\n",
    "tree_pipeline = make_pipeline(column_transform, tree)"
   ]
  },
  {
   "cell_type": "code",
   "execution_count": 22,
   "metadata": {},
   "outputs": [
    {
     "data": {
      "text/plain": [
       "Pipeline(memory=None,\n",
       "         steps=[('columntransformer',\n",
       "                 ColumnTransformer(n_jobs=None, remainder='drop',\n",
       "                                   sparse_threshold=0.3,\n",
       "                                   transformer_weights=None,\n",
       "                                   transformers=[('onehotencoder',\n",
       "                                                  OneHotEncoder(categories='auto',\n",
       "                                                                drop=None,\n",
       "                                                                dtype=<class 'numpy.float64'>,\n",
       "                                                                handle_unknown='error',\n",
       "                                                                sparse=True),\n",
       "                                                  ['CHANNEL', 'Occ_flag',\n",
       "                                                   'PI_Contactablity',\n",
       "                                                   'Loan Type',\n",
       "                                                   'Collection Point ',...\n",
       "                                   verbose=False)),\n",
       "                ('decisiontreeclassifier',\n",
       "                 DecisionTreeClassifier(ccp_alpha=0.0, class_weight=None,\n",
       "                                        criterion='gini', max_depth=None,\n",
       "                                        max_features=None, max_leaf_nodes=None,\n",
       "                                        min_impurity_decrease=0.0,\n",
       "                                        min_impurity_split=None,\n",
       "                                        min_samples_leaf=1, min_samples_split=2,\n",
       "                                        min_weight_fraction_leaf=0.0,\n",
       "                                        presort='deprecated', random_state=10,\n",
       "                                        splitter='best'))],\n",
       "         verbose=False)"
      ]
     },
     "execution_count": 22,
     "metadata": {},
     "output_type": "execute_result"
    }
   ],
   "source": [
    "# Fit the training data\n",
    "tree_pipeline.fit(X_train, y_train)"
   ]
  },
  {
   "cell_type": "code",
   "execution_count": 23,
   "metadata": {},
   "outputs": [],
   "source": [
    "tree_test_predictions = tree_pipeline.predict(X_test)"
   ]
  },
  {
   "cell_type": "code",
   "execution_count": 24,
   "metadata": {},
   "outputs": [],
   "source": [
    "# Create the classification report for both models\n",
    "from sklearn.metrics import classification_report\n",
    "class_rep_tree = classification_report(y_test, tree_test_predictions)"
   ]
  },
  {
   "cell_type": "markdown",
   "metadata": {},
   "source": [
    "### Classification report for Decision tree model"
   ]
  },
  {
   "cell_type": "code",
   "execution_count": 25,
   "metadata": {
    "scrolled": true
   },
   "outputs": [
    {
     "name": "stdout",
     "output_type": "stream",
     "text": [
      "Decision Tree: \n",
      "               precision    recall  f1-score   support\n",
      "\n",
      "           0       0.98      0.97      0.98       249\n",
      "           1       0.89      0.92      0.91        64\n",
      "\n",
      "    accuracy                           0.96       313\n",
      "   macro avg       0.94      0.95      0.94       313\n",
      "weighted avg       0.96      0.96      0.96       313\n",
      "\n"
     ]
    }
   ],
   "source": [
    "print(\"Decision Tree: \\n\", class_rep_tree)"
   ]
  },
  {
   "cell_type": "markdown",
   "metadata": {},
   "source": [
    "# Using Logistic reg and making a pipeline for the process "
   ]
  },
  {
   "cell_type": "code",
   "execution_count": 26,
   "metadata": {},
   "outputs": [],
   "source": [
    "# Import Log reg \n",
    "from sklearn.linear_model import LogisticRegression\n",
    "\n",
    "# Create our decision tree\n",
    "log = LogisticRegression(random_state=10)\n",
    "\n",
    "log_pipeline = make_pipeline(column_transform, log)"
   ]
  },
  {
   "cell_type": "code",
   "execution_count": 27,
   "metadata": {},
   "outputs": [
    {
     "data": {
      "text/plain": [
       "Pipeline(memory=None,\n",
       "         steps=[('columntransformer',\n",
       "                 ColumnTransformer(n_jobs=None, remainder='drop',\n",
       "                                   sparse_threshold=0.3,\n",
       "                                   transformer_weights=None,\n",
       "                                   transformers=[('onehotencoder',\n",
       "                                                  OneHotEncoder(categories='auto',\n",
       "                                                                drop=None,\n",
       "                                                                dtype=<class 'numpy.float64'>,\n",
       "                                                                handle_unknown='error',\n",
       "                                                                sparse=True),\n",
       "                                                  ['CHANNEL', 'Occ_flag',\n",
       "                                                   'PI_Contactablity',\n",
       "                                                   'Loan Type',\n",
       "                                                   'Collection Point ',...\n",
       "                                                  ['Avg EMI Overdue days ',\n",
       "                                                   'Loan Term ',\n",
       "                                                   'Loan Amount_Lacs', 'PI_Age',\n",
       "                                                   'Salary '])],\n",
       "                                   verbose=False)),\n",
       "                ('logisticregression',\n",
       "                 LogisticRegression(C=1.0, class_weight=None, dual=False,\n",
       "                                    fit_intercept=True, intercept_scaling=1,\n",
       "                                    l1_ratio=None, max_iter=100,\n",
       "                                    multi_class='auto', n_jobs=None,\n",
       "                                    penalty='l2', random_state=10,\n",
       "                                    solver='lbfgs', tol=0.0001, verbose=0,\n",
       "                                    warm_start=False))],\n",
       "         verbose=False)"
      ]
     },
     "execution_count": 27,
     "metadata": {},
     "output_type": "execute_result"
    }
   ],
   "source": [
    "# Fit the training data\n",
    "log_pipeline.fit(X_train, y_train)"
   ]
  },
  {
   "cell_type": "code",
   "execution_count": 28,
   "metadata": {},
   "outputs": [],
   "source": [
    "log_test_predictions = log_pipeline.predict(X_test)"
   ]
  },
  {
   "cell_type": "code",
   "execution_count": 29,
   "metadata": {},
   "outputs": [],
   "source": [
    "# Create the classification report for both models\n",
    "from sklearn.metrics import classification_report\n",
    "class_rep_log = classification_report(y_test, log_test_predictions)"
   ]
  },
  {
   "cell_type": "markdown",
   "metadata": {},
   "source": [
    "### Classification report for logistic regressionmodel"
   ]
  },
  {
   "cell_type": "code",
   "execution_count": 30,
   "metadata": {},
   "outputs": [
    {
     "name": "stdout",
     "output_type": "stream",
     "text": [
      "Logistic regression: \n",
      "               precision    recall  f1-score   support\n",
      "\n",
      "           0       0.97      1.00      0.99       249\n",
      "           1       1.00      0.89      0.94        64\n",
      "\n",
      "    accuracy                           0.98       313\n",
      "   macro avg       0.99      0.95      0.96       313\n",
      "weighted avg       0.98      0.98      0.98       313\n",
      "\n"
     ]
    }
   ],
   "source": [
    "print(\"Logistic regression: \\n\", class_rep_log)"
   ]
  },
  {
   "cell_type": "markdown",
   "metadata": {},
   "source": [
    "## Feature selection"
   ]
  },
  {
   "cell_type": "markdown",
   "metadata": {},
   "source": [
    "### Feature selection can also be performed, below is one example for the same, but since we already have accuracy above 95%, we are not indulging in the same\n",
    "\n",
    "#### there are various methods for supervised learning, such as, wrapper and filter methods. Below is code for filter method, same can be used for selecting features"
   ]
  },
  {
   "cell_type": "code",
   "execution_count": 31,
   "metadata": {},
   "outputs": [],
   "source": [
    "# # Feature selection\n",
    "\n",
    "# from sklearn.datasets import load_digits\n",
    "# from sklearn.feature_selection import SelectKBest, f_classif\n",
    "\n",
    "# bestfeature = SelectKBest(score_func = f_classif, k=3)\n",
    "# fit = bestfeature.fit(X,y)\n",
    "# print(fit.scores_)\n",
    "# print(fit.pvalues_)"
   ]
  },
  {
   "cell_type": "markdown",
   "metadata": {},
   "source": [
    "## Cross validation using k-fold (error in code)"
   ]
  },
  {
   "cell_type": "code",
   "execution_count": 32,
   "metadata": {},
   "outputs": [],
   "source": [
    "# from sklearn.model_selection import KFold, cross_val_score\n",
    "# from sklearn.pipeline import Pipeline\n",
    "# # tree_pipe = Pipeline([(\"scaler\", StandardScaler()), (\"pca\", PCA(n_components=6)), \n",
    "# #                       (\"tree\", DecisionTreeClassifier(random_state=10))])\n",
    "# # logreg_pipe = Pipeline([(\"scaler\", StandardScaler()), (\"pca\", PCA(n_components=6)), \n",
    "# #                         (\"logreg\", LogisticRegression(random_state=10))])\n",
    "\n",
    "# # Set up our K-fold cross-validation\n",
    "# kf = KFold(10)\n",
    "\n",
    "# # Train our models using KFold cv\n",
    "# tree_score = cross_val_score(tree_pipeline, train, test, cv=kf)\n",
    "# logit_score = cross_val_score(logreg_pipeline, train, test, cv=kf)\n",
    "\n",
    "# # Print the mean of each array o scores\n",
    "# print(\"Decision Tree:\", np.mean(tree_score), \"Logistic Regression:\", np.mean(logit_score))"
   ]
  },
  {
   "cell_type": "markdown",
   "metadata": {},
   "source": [
    "# Predicting the test case"
   ]
  },
  {
   "cell_type": "code",
   "execution_count": 33,
   "metadata": {},
   "outputs": [],
   "source": [
    "test_row = pd.read_excel('C:/Users/dell/Desktop/projects/Python/test row.xlsx')"
   ]
  },
  {
   "cell_type": "code",
   "execution_count": 34,
   "metadata": {
    "scrolled": true
   },
   "outputs": [
    {
     "name": "stdout",
     "output_type": "stream",
     "text": [
      "Index(['CHANNEL', 'Loan Type', 'Collection Point ', 'Avg EMI Overdue days ',\n",
      "       'Loan Term ', 'Loan Amount_Lacs', 'Type of Loan Taken', 'PI_Age',\n",
      "       'PI_GENDER', 'PI_MARITAL_STATUS', 'PI_STATE', 'Zone', 'Branch',\n",
      "       'Salary ', 'Age Proof', 'Blocked Location - Current ',\n",
      "       'EMI defulter Frequency  ', 'Salary Account in Bank', 'edu_flag',\n",
      "       'Occ_flag', 'PI_Contactablity'],\n",
      "      dtype='object')\n"
     ]
    },
    {
     "data": {
      "text/plain": [
       "Index(['CHANNEL', 'Loan Type', 'Collection Point ', 'Avg EMI Overdue days ',\n",
       "       'Loan Term ', 'Loan Amount_Lacs', 'Type of Loan Taken', 'PI_Age',\n",
       "       'PI_GENDER', 'PI_MARITAL_STATUS', 'Zone', 'Branch', 'Salary ',\n",
       "       'Age Proof', 'Blocked Location - Current ', 'EMI defulter Frequency  ',\n",
       "       'Salary Account in Bank', 'Occ_flag', 'PI_Contactablity'],\n",
       "      dtype='object')"
      ]
     },
     "execution_count": 34,
     "metadata": {},
     "output_type": "execute_result"
    }
   ],
   "source": [
    "test_row.shape\n",
    "\n",
    "print(test_row.columns)\n",
    "X_test.columns"
   ]
  },
  {
   "cell_type": "code",
   "execution_count": 35,
   "metadata": {},
   "outputs": [],
   "source": [
    "test_row.drop(['edu_flag'], axis=1, inplace = True) # education flag has majority null values \n",
    "# test_row.drop(['Customer'], axis=1, inplace = True) # Customer_ID is irrelevant\n",
    "test_row.drop(['PI_STATE'], axis=1, inplace = True)"
   ]
  },
  {
   "cell_type": "code",
   "execution_count": 36,
   "metadata": {},
   "outputs": [],
   "source": [
    "tree_test_predictions = tree_pipeline.predict(test_row)"
   ]
  },
  {
   "cell_type": "code",
   "execution_count": 37,
   "metadata": {},
   "outputs": [
    {
     "data": {
      "text/plain": [
       "array([0])"
      ]
     },
     "execution_count": 37,
     "metadata": {},
     "output_type": "execute_result"
    }
   ],
   "source": [
    "tree_test_predictions"
   ]
  },
  {
   "cell_type": "markdown",
   "metadata": {},
   "source": [
    "# Pickling model file for Deploying model"
   ]
  },
  {
   "cell_type": "code",
   "execution_count": 38,
   "metadata": {},
   "outputs": [],
   "source": [
    "import pickle"
   ]
  },
  {
   "cell_type": "code",
   "execution_count": 39,
   "metadata": {},
   "outputs": [],
   "source": [
    "pickle.dump(tree_pipeline , open('tree_pipeline.pkl', 'wb'))"
   ]
  },
  {
   "cell_type": "code",
   "execution_count": 40,
   "metadata": {},
   "outputs": [],
   "source": [
    "pickled_model = pickle.load(open('tree_pipeline.pkl', 'rb'))"
   ]
  },
  {
   "cell_type": "code",
   "execution_count": 42,
   "metadata": {},
   "outputs": [
    {
     "data": {
      "text/plain": [
       "array([0])"
      ]
     },
     "execution_count": 42,
     "metadata": {},
     "output_type": "execute_result"
    }
   ],
   "source": [
    "pickled_model.predict(test_row)"
   ]
  }
 ],
 "metadata": {
  "kernelspec": {
   "display_name": "Python 3",
   "language": "python",
   "name": "python3"
  },
  "language_info": {
   "codemirror_mode": {
    "name": "ipython",
    "version": 3
   },
   "file_extension": ".py",
   "mimetype": "text/x-python",
   "name": "python",
   "nbconvert_exporter": "python",
   "pygments_lexer": "ipython3",
   "version": "3.7.6"
  }
 },
 "nbformat": 4,
 "nbformat_minor": 4
}
